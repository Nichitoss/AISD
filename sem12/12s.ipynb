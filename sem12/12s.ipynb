{
 "cells": [
  {
   "cell_type": "markdown",
   "metadata": {},
   "source": [
    "1) При помощи стека (можно использовать любую реализацию стека, например, из лекции) проверить, что в строке, содержащей большой фрагмент кода на python, корректно открываются и закрываются скобки '(' и ')'. Заводить какие-либо счетчики и вообще вести подсчет скобок запрещено. \n",
    "Например, в следующей строке корректное количество скобок: \n",
    "'((dsasdas((das(d)das)d)asd)da)' \n",
    "А вот в следующей закрывающих больше, чем открывающих:\n",
    "'(f(gfhd((hgfdg((fghh)dads)das))ds)adddads())))' \n"
   ]
  },
  {
   "cell_type": "code",
   "execution_count": null,
   "metadata": {},
   "outputs": [],
   "source": [
    "\"\"\"\n",
    "В этом коде мы используем стек в виде списка stack. Мы проходим по каждому символу в строке и добавляем открывающую скобку в стек\n",
    "или удаляем ее из стека, если встречаем закрывающую скобку. Если в конце прохода по строке стек остается непустым, значит, \n",
    "количество открывающих и закрывающих скобок не совпадает, \n",
    "и функция возвращает False. В противном случае, если стек пустой, то все скобки корректно открыты и закрыты, и функция возвращает True.\n",
    "\"\"\"\n",
    "def check_brackets(string):\n",
    "    stack = []\n",
    "    for char in string:\n",
    "        if char == '(':\n",
    "            stack.append(char)\n",
    "        elif char == ')':\n",
    "            if len(stack) == 0:\n",
    "                return False\n",
    "            stack.pop()\n",
    "    return len(stack) == 0\n",
    "# Пример использования\n",
    "string = '((dsasdas((das(d)das)d)asd)da)'\n",
    "print(check_brackets(string))  # True\n",
    "string = '(f(gfhd((hgfdg((fghh)dads)das))ds)adddads())))'\n",
    "print(check_brackets(string))  # False\n"
   ]
  },
  {
   "cell_type": "markdown",
   "metadata": {},
   "source": [
    "2) С помощью списка (list) реализовать стек. При создании стека нужно передать максимальную длину стека. В случае попытки добавления элемента, приводящего к превышению емкости стека возвращать ошибку. \n",
    "Стек должен поддерживать следующие операции: \n",
    "S.push(e): добавление элемента e на вершину стека S. \n",
    "S.pop(): удаляет и возвращает верхний элемент стека S. Если стек пуст, то возникает ошибка. \n",
    "S.top(): возвращает верхний элемент стека S, не удаляя его. Если стек пуст, то возникает ошибка. \n",
    "S.is_empty( ): возвращает True если стек S не содержит ни одного элемента. \n",
    "len(S): возвращает текущеее количество элементов в стеке S. "
   ]
  },
  {
   "cell_type": "code",
   "execution_count": null,
   "metadata": {},
   "outputs": [],
   "source": [
    "class Stack:\n",
    "    def __init__(self, max_length):\n",
    "        self.max_length = max_length\n",
    "        self.stack = []\n",
    "\n",
    "    def push(self, element):\n",
    "        if len(self.stack) == self.max_length:\n",
    "            raise Exception(\"Stack is full\")\n",
    "        self.stack.append(element)\n",
    "\n",
    "    def pop(self):\n",
    "        if self.is_empty():\n",
    "            raise Exception(\"Stack is empty\")\n",
    "        return self.stack.pop()\n",
    "\n",
    "    def top(self):\n",
    "        if self.is_empty():\n",
    "            raise Exception(\"Stack is empty\")\n",
    "        return self.stack[-1]\n",
    "\n",
    "    def is_empty(self):\n",
    "        return len(self.stack) == 0\n",
    "\n",
    "    def __len__(self):\n",
    "        return len(self.stack)\n",
    "\"\"\"\n",
    "В этом коде мы создаем класс Stack, который имеет атрибут max_length для хранения максимальной длины стека и атрибут stack,\n",
    "который представляет собой список, используемый для хранения элементов стека. Метод push добавляет элемент в верхнюю часть стека, \n",
    "проверяя при этом, не превышает ли текущая длина стека максимальное значение. Метод pop удаляет и возвращает верхний элемент стека,\n",
    "проверяя при этом, не является ли стек пустым. Метод top возвращает верхний элемент стека без его удаления, также проверяя, что стек не пуст. \n",
    "Метод is_empty возвращает True, если стек пустой, и False в противном случае. Метод __len__ возвращает текущую длину стека.\n",
    "\"\"\"\n",
    "# Пример использования\n",
    "s = Stack(5)\n",
    "print(s.is_empty())  # True\n",
    "\n",
    "s.push(1)\n",
    "s.push(2)\n",
    "s.push(3)\n",
    "print(len(s))  # 3\n",
    "print(s.top())  # 3\n",
    "\n",
    "s.pop()\n",
    "print(len(s))  # 2\n",
    "print(s.top())  # 2\n",
    "\n",
    "s.pop()\n",
    "s.pop()\n",
    "print(s.is_empty())  # True\n"
   ]
  },
  {
   "cell_type": "markdown",
   "metadata": {},
   "source": [
    "3) Реализовать класс однонаправленного связанного списка.  \n",
    "3.1) Реализовать метод добавления элемента в начало списка.  "
   ]
  },
  {
   "cell_type": "code",
   "execution_count": null,
   "metadata": {},
   "outputs": [],
   "source": [
    "class Node:\n",
    "    def __init__(self, data):\n",
    "        self.data = data\n",
    "        self.next = None\n",
    "\n",
    "class LinkedList:\n",
    "    def __init__(self):\n",
    "        self.head = None\n",
    "\n",
    "    def add_to_start(self, data):\n",
    "        new_node = Node(data)\n",
    "        new_node.next = self.head\n",
    "        self.head = new_node\n"
   ]
  },
  {
   "cell_type": "markdown",
   "metadata": {},
   "source": [
    "4) На базе класса однонаправленного связанного списка реализовать двунаправленный связанный список.  \n",
    "4.1) Реализовать метод добавления элемента в начало списка.  "
   ]
  },
  {
   "cell_type": "code",
   "execution_count": null,
   "metadata": {},
   "outputs": [],
   "source": [
    "class Node:\n",
    "    def __init__(self, element: int, next = None, prev = None) -> None:\n",
    "        self.prev = prev\n",
    "        self.next = next\n",
    "        self.element = element\n",
    "\n",
    "class LinkedList:\n",
    "    def __init__(self, head = None, tail = None) -> None:\n",
    "        self.head = head\n",
    "        self.tail = tail\n",
    "    def append(self, element : int) -> None:\n",
    "        node = Node(element)\n",
    "        if not self.head:\n",
    "            self.head = node\n",
    "            self.tail = node\n",
    "        else:\n",
    "            node.next = self.head\n",
    "            self.head.prev = node\n",
    "            self.head = node\n",
    "    def output(self) -> None:\n",
    "        node = self.head\n",
    "        while node.next:\n",
    "            print(node.element)\n",
    "            node = node.next\n",
    "        print(node.element)\n",
    "www = LinkedList()\n",
    "www.append(3)\n",
    "www.append(5)\n",
    "www.append(7)\n",
    "www.output()"
   ]
  },
  {
   "cell_type": "markdown",
   "metadata": {},
   "source": [
    "5) При помощи класса связанного списка реализовать очередь."
   ]
  },
  {
   "cell_type": "code",
   "execution_count": null,
   "metadata": {},
   "outputs": [],
   "source": [
    "class Queue:\n",
    "    def __init__(self):\n",
    "        self.queue = LinkedList()\n",
    "\n",
    "    def enqueue(self, data):\n",
    "        self.queue.add_to_start(data)\n",
    "\n",
    "    def dequeue(self):\n",
    "        if self.is_empty():\n",
    "            raise Exception(\"Queue is empty\")\n",
    "        current = self.queue.head\n",
    "        prev = None\n",
    "        while current.next is not None:\n",
    "            prev = current\n",
    "            current = current.next\n",
    "        if prev is None:\n",
    "            self.queue.head = None\n",
    "        else:\n",
    "            prev.next = None\n",
    "        return current.data\n",
    "\n",
    "    def is_empty(self):\n",
    "        return self.queue.head is None\n"
   ]
  }
 ],
 "metadata": {
  "kernelspec": {
   "display_name": "Python 3",
   "language": "python",
   "name": "python3"
  },
  "language_info": {
   "name": "python",
   "version": "3.12.2"
  }
 },
 "nbformat": 4,
 "nbformat_minor": 2
}
