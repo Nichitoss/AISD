{
 "cells": [
  {
   "cell_type": "markdown",
   "metadata": {},
   "source": [
    "10) Написать 4 функции порождения списка целых значений: отсортированного (по возрастанию и убыванию), случайного и почти отсортированного по возрастанию. Каждая функция принимает длину списка в качестве аргумента."
   ]
  },
  {
   "cell_type": "code",
   "execution_count": null,
   "metadata": {},
   "outputs": [],
   "source": [
    "def generate_sorted_asc(length):\n",
    "    return list(range(1, length+1))\n",
    "def generate_sorted_desc(length):\n",
    "    return list(range(length, 0, -1))\n",
    "import random\n",
    "def generate_random(length):\n",
    "    return [random.randint(1, 100) for _ in range(length)]\n",
    "def generate_almost_sorted_asc(length):\n",
    "    lst = generate_sorted_asc(length)\n",
    "    for i in range(2, length, 3):\n",
    "        lst[i], lst[i-1] = lst[i-1], lst[i]\n",
    "    return lst\n",
    "\n"
   ]
  },
  {
   "cell_type": "markdown",
   "metadata": {},
   "source": [
    "11) Реализовать функцию тестирования алгоритма сортировки. Процедура принимает на вход алгоритм сортировки и алгоритм порождения списка f_gen(list_len), генерирующий список заданной длины, количество повтороений теста и список длин использующихся для тестирования. Для каждой длины списка функция тестирования возвращает минимальное, среднее и наибольшее количество сравнений и перестановок."
   ]
  },
  {
   "cell_type": "code",
   "execution_count": null,
   "metadata": {},
   "outputs": [],
   "source": [
    "def bubble_sort(lst2)-> tuple:\n",
    "    lst = lst2.copy()  \n",
    "    swaps = 0\n",
    "    compares = 0\n",
    "    n = len(lst)\n",
    "    for i in range(n-1, 0, -1):\n",
    "        for j in range(i):\n",
    "            compares += 1\n",
    "            if lst[j] > lst[j+1]:\n",
    "                swaps += 1\n",
    "                lst[j], lst[j+1] = lst[j+1], lst[j]\n",
    "    \n",
    "    return lst, compares, swaps\n",
    "\n",
    "\n",
    "from random import sample\n",
    "\n",
    "def gen_rand_list(length):\n",
    "    return sample(range(0, length*10), length)\n",
    "generated = gen_rand_list(10)\n",
    "print(generated)\n",
    "print(bubble_sort(generated))"
   ]
  },
  {
   "cell_type": "markdown",
   "metadata": {},
   "source": []
  },
  {
   "cell_type": "markdown",
   "metadata": {},
   "source": [
    "12) Реализовать модификацию сортировки пузырьком: \"камешек-пузырек\" - с чередующимися проходами, приводящими к \"всплытию\" самого большого значения списка и \"погружению\" самого маленького значения из неотсортированной части списка."
   ]
  },
  {
   "cell_type": "code",
   "execution_count": 6,
   "metadata": {},
   "outputs": [
    {
     "data": {
      "text/plain": [
       "([0, 1, 2, 3, 3, 4, 5, 6, 10, 23, 45, 134], 66, 16)"
      ]
     },
     "execution_count": 6,
     "metadata": {},
     "output_type": "execute_result"
    }
   ],
   "source": [
    "\n",
    "def stone_bubble_sort(arr):\n",
    "    n = len(arr)\n",
    "    is_sorted = False\n",
    "\n",
    "    while not is_sorted:\n",
    "        is_sorted = True\n",
    "        for i in range(1, n-1, 2):  # Проходы для \"всплытия\"\n",
    "            if arr[i] > arr[i+1]:\n",
    "                arr[i], arr[i+1] = arr[i+1], arr[i]\n",
    "                is_sorted = False\n",
    "\n",
    "        for i in range(0, n-1, 2):  # Проходы для \"погружения\"\n",
    "            if arr[i] > arr[i+1]:\n",
    "                arr[i], arr[i+1] = arr[i+1], arr[i]\n",
    "                is_sorted = False\n",
    "\n",
    "    return arr\n",
    "\n",
    "arr = [64, 34, 25, 12, 22, 11, 90, 33, 123, 111]\n",
    "sorted_arr = stone_bubble_sort(arr)\n",
    "print(\"Отсортированный массив:\", sorted_arr)"
   ]
  },
  {
   "cell_type": "markdown",
   "metadata": {},
   "source": [
    "14) Протестировать алгоритм \"пузырек\" и \"камешек-пузырек\" на разных типах списков."
   ]
  },
  {
   "cell_type": "code",
   "execution_count": null,
   "metadata": {},
   "outputs": [],
   "source": [
    "def test_sorting_algorithm(sort_func, list_type, list_length):\n",
    "    if list_type == \"random\":\n",
    "        test_list = random_values(list_length)\n",
    "    elif list_type == \"sorted_acs\":\n",
    "        test_list = sorted_acs(list_length)\n",
    "    elif list_type == \"almost_sorted\":\n",
    "        test_list = elmost_sorted_asc(list_length)\n",
    "\n",
    "    print(\"Original list:\", test_list)\n",
    "\n",
    "    sorted_list = sort_func(test_list.copy())\n",
    "    print(\"Sorted list:\", sorted_list)\n",
    "    print(\"\\n\")\n",
    "\n",
    "test_sorting_algorithm(stone_bubble_sort, \"random\", 10)  \n",
    "test_sorting_algorithm(stone_bubble_sort, \"sorted_acs\", 10)  \n",
    "test_sorting_algorithm(stone_bubble_sort, \"almost_sorted\", 10)"
   ]
  },
  {
   "cell_type": "markdown",
   "metadata": {},
   "source": [
    "15) Реализовать модификацию сортировки выбором на основе выбора из подсписков (описанного в лекции). Протестировать алгоритм."
   ]
  },
  {
   "cell_type": "code",
   "execution_count": null,
   "metadata": {},
   "outputs": [],
   "source": [
    "def stone_bubble_sort(arr):\n",
    "    n = len(arr)\n",
    "    sublist_length = int(n**0.5)\n",
    "    while n > 1:\n",
    "        k = []\n",
    "        for i in range(0, n, sublist_length):\n",
    "            sublist = arr[i:min(n, i+sublist_length)]\n",
    "            max_index = sublist.index(max(sublist))\n",
    "            max_value = sublist[max_index]\n",
    "            k.append(max_value)\n",
    "        max_index = arr.index(max(k))\n",
    "        arr[max_index], arr[n - 1] = arr[n - 1], arr[max_index]\n",
    "        n -= 1\n",
    "    return arr\n",
    "\n",
    "sorted_arr = stone_bubble_sort([1,2,12,12,0,5,3,10,18,15,14,13,30])\n",
    "print(sorted_arr)"
   ]
  },
  {
   "cell_type": "markdown",
   "metadata": {},
   "source": [
    "16) Реализовать быструю сортировку с возможностью подсчета операций. Сравнить производительность алгоритма на случайных и упорядоченных (и почти упорядоченных) данных."
   ]
  },
  {
   "cell_type": "code",
   "execution_count": null,
   "metadata": {},
   "outputs": [],
   "source": [
    "import random\n",
    "import time\n",
    "\n",
    "def quicksort(arr, low, high):\n",
    "    if low < high:\n",
    "        pi, count = partition(arr, low, high)\n",
    "        count += quicksort(arr, low, pi - 1)\n",
    "        count += quicksort(arr, pi + 1, high)\n",
    "        return count\n",
    "    else:\n",
    "        return 0\n",
    "\n",
    "def partition(arr, low, high):\n",
    "    pivot = arr[high]\n",
    "    i = low - 1\n",
    "    count = 0\n",
    "    for j in range(low, high):\n",
    "        if arr[j] < pivot:\n",
    "            i += 1\n",
    "            arr[i], arr[j] = arr[j], arr[i]\n",
    "            count += 1\n",
    "    arr[i + 1], arr[high] = arr[high], arr[i + 1]\n",
    "    count += 1\n",
    "    return i + 1, count\n",
    "\n",
    "\n",
    "arr_random = [random.randint(0, 1000) for _ in range(1000)]\n",
    "arr_sorted = sorted(arr_random)\n",
    "arr_almost_sorted = arr_sorted[:]\n",
    "arr_almost_sorted[0], arr_almost_sorted[1] = arr_almost_sorted[1], arr_almost_sorted[0]\n",
    "\n",
    "start_time = time.time()\n",
    "count_random = quicksort(arr_random, 0, len(arr_random) - 1)\n",
    "end_time = time.time()\n",
    "print(\"Случайные данные:\")\n",
    "print(\"Время выполнения:\", end_time - start_time)\n",
    "print(\"Количество операций:\", count_random)\n",
    "\n",
    "start_time = time.time()\n",
    "count_sorted = quicksort(arr_sorted, 0, len(arr_sorted) - 1)\n",
    "end_time = time.time()\n",
    "print(\"Упорядоченные данные:\")\n",
    "print(\"Время выполнения:\", end_time - start_time)\n",
    "print(\"Количество операций:\", count_sorted)\n",
    "\n",
    "start_time = time.time()\n",
    "count_almost_sorted = quicksort(arr_almost_sorted, 0, len(arr_almost_sorted) - 1)\n",
    "end_time = time.time()\n",
    "print(\"Почти упорядоченные данные:\")\n",
    "print(\"Время выполнения:\", end_time - start_time)\n",
    "print(\"Количество операций:\", count_almost_sorted)\n"
   ]
  },
  {
   "cell_type": "markdown",
   "metadata": {},
   "source": [
    "17) Улучшить работу быстрой сортировки на упорядоченных и почти упорядоченных за счет изменения алгоритма выбора элемента для разделения массива.\n"
   ]
  },
  {
   "cell_type": "code",
   "execution_count": 21,
   "metadata": {},
   "outputs": [
    {
     "data": {
      "text/plain": [
       "[1, 2, 3, 4, 5, 6, 10, 134]"
      ]
     },
     "execution_count": 21,
     "metadata": {},
     "output_type": "execute_result"
    }
   ],
   "source": [
    "def quick_sort(arr):\n",
    "    improved_quick_sort_helper(arr, 0, len(arr)-1)\n",
    "    return arr\n",
    "def improved_quick_sort_helper(arr, low, high):\n",
    "    if low < high:\n",
    "        pivot_index = choose_pivot(arr, low, high)\n",
    "        pivot_index = partition(arr, low, high, pivot_index)\n",
    "        improved_quick_sort_helper(arr, low, pivot_index - 1)\n",
    "        improved_quick_sort_helper(arr, pivot_index + 1, high)\n",
    "\n",
    "def choose_pivot(arr, low, high):\n",
    "    # Выбираем опорныq элеменn\n",
    "    mid = (low + high) // 2\n",
    "    if arr[low] <= arr[mid] <= arr[high] or arr[high] <= arr[mid] <= arr[low]:\n",
    "        return mid\n",
    "    elif arr[mid] <= arr[low] <= arr[high] or arr[high] <= arr[low] <= arr[mid]:\n",
    "        return low\n",
    "    else:\n",
    "        return high\n",
    "\n",
    "def partition(arr, low, high, pivot_index):\n",
    "    #Функция для разделения списка на две половины относительно опорного элемента.\n",
    "    pivot_value = arr[pivot_index]\n",
    "    arr[pivot_index], arr[high] = arr[high], arr[pivot_index]\n",
    "    left = low\n",
    "    for i in range(low, high):\n",
    "        if arr[i] < pivot_value:\n",
    "            arr[i], arr[left] = arr[left], arr[i]\n",
    "            left += 1\n",
    "    arr[left], arr[high] = arr[high], arr[left]\n",
    "    return left\n",
    "quick_sort([1,3,4,5,134,10,2,6])"
   ]
  },
  {
   "cell_type": "code",
   "execution_count": null,
   "metadata": {},
   "outputs": [
    {
     "data": {
      "text/plain": [
       "[1, 2, 3, 4, 5, 6, 10, 134]"
      ]
     },
     "metadata": {},
     "output_type": "display_data"
    }
   ],
   "source": [
    "def quick_sort(arr):\n",
    "    quicksort_optimized(arr, 0, len(arr)-1)\n",
    "    return arr\n",
    "def quicksort_optimized(lst, low, high):\n",
    "    \"\"\"\n",
    "    Оптимизированная реализация быстрой сортировки с использованием улучшенного выбора опорного элемента.\n",
    "    Принимает на вход:\n",
    "        - lst: список для сортировки\n",
    "        - low: индекс начала списка\n",
    "        - high: индекс конца списка\n",
    "    \"\"\"\n",
    "    if low < high:\n",
    "        pivot_index = choose_pivot(lst, low, high)  # Выбор опорного элемента\n",
    "        lst[pivot_index], lst[high] = lst[high], lst[pivot_index]  # Поменять местами опорный элемент с последним\n",
    "        partition_index = partition(lst, low, high)\n",
    "        quicksort_optimized(lst, low, partition_index - 1)\n",
    "        quicksort_optimized(lst, partition_index + 1, high)\n",
    "\n",
    "def choose_pivot(lst, low, high):\n",
    "    \"\"\"\n",
    "    Функция для выбора опорного элемента по улучшенному алгоритму.\n",
    "    Принимает на вход:\n",
    "        - lst: список\n",
    "        - low: индекс начала списка\n",
    "        - high: индекс конца списка\n",
    "    Возвращает индекс выбранного опорного элемента.\n",
    "    \"\"\"\n",
    "    mid = (low + high) // 2\n",
    "    if lst[low] < lst[mid]:\n",
    "        if lst[mid] < lst[high]:\n",
    "            return mid\n",
    "        else:\n",
    "            if lst[low] < lst[high]:\n",
    "                return high\n",
    "            else:\n",
    "                return low\n",
    "    else:\n",
    "        if lst[low] < lst[high]:\n",
    "            return low\n",
    "        else:\n",
    "            if lst[mid] < lst[high]:\n",
    "                return high\n",
    "            else:\n",
    "                return mid\n",
    "\n",
    "def partition(lst, low, high):\n",
    "    \"\"\"\n",
    "    Функция для разделения списка на две половины относительно опорного элемента.\n",
    "    Принимает на вход:\n",
    "        - lst: список\n",
    "        - low: индекс начала списка\n",
    "        - high: индекс конца списка\n",
    "    Возвращает индекс опорного элемента.\n",
    "    \"\"\"\n",
    "    pivot = lst[high]\n",
    "    i = low - 1\n",
    "    for j in range(low, high):\n",
    "        if lst[j] <= pivot:\n",
    "            i += 1\n",
    "            lst[i], lst[j] = lst[j], lst[i]\n",
    "\n",
    "    lst[i+1], lst[high] = lst[high], lst[i+1]\n",
    "    return i + 1\n",
    "quick_sort([1,3,4,5,134,10,2,6])"
   ]
  },
  {
   "cell_type": "markdown",
   "metadata": {},
   "source": [
    "18) Реализовать эффективный алгоритм получения из большого количества отсортированных списков одного отсортированного списка.\n"
   ]
  },
  {
   "cell_type": "markdown",
   "metadata": {},
   "source": [
    "19) Модифицировать последовательность длин шагов в сортировке Шелла. 19) Модифицировать последовательность длин шагов в сортировке Шелла.\n",
    "На 2[𝑛/2𝑘+1]+1"
   ]
  }
 ],
 "metadata": {
  "kernelspec": {
   "display_name": "Python 3",
   "language": "python",
   "name": "python3"
  },
  "language_info": {
   "codemirror_mode": {
    "name": "ipython",
    "version": 3
   },
   "file_extension": ".py",
   "mimetype": "text/x-python",
   "name": "python",
   "nbconvert_exporter": "python",
   "pygments_lexer": "ipython3",
   "version": "3.12.2"
  }
 },
 "nbformat": 4,
 "nbformat_minor": 2
}
