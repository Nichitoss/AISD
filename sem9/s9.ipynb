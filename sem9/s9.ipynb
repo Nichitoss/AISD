{
 "cells": [
  {
   "cell_type": "code",
   "execution_count": 9,
   "metadata": {},
   "outputs": [],
   "source": [
    "l1 = ['1', '123', '123', '12', '1', '123',\"1234\",\"1\",\"23457\"]\n",
    "l2 = [2, 4, -2, -3, 0 , 11 , 3 -1]\n",
    "d4 = {1: 10, 2: 20, 3: 30, 4: 40, 5: 50, 6: 60}\n",
    "d5 = {'a': 3, 'b': 4, 'c': 5, 'd': 6, 'e': 7, 'f': 8, 'g': 9}\n",
    "d6 = {'e': 20, 'f': 21, 'g': 22, 'h': 23, 'i': 24, 'j': 25, 'k': 26, 'l': 27}"
   ]
  },
  {
   "cell_type": "markdown",
   "metadata": {},
   "source": [
    "4.13) Используюя список l1 создать список, в ктором каждый элемент списка l1 будет заменен значением длинны строки соответствующего элемента в списке l1. Использовать генераторы, решить задачу в одну строку."
   ]
  },
  {
   "cell_type": "code",
   "execution_count": 11,
   "metadata": {},
   "outputs": [
    {
     "name": "stdout",
     "output_type": "stream",
     "text": [
      "[1, 3, 3, 2, 1, 3, 4, 1, 5]\n"
     ]
    }
   ],
   "source": [
    "n_sp =  [len(item) for item in l1]\n",
    "print (n_sp)"
   ]
  },
  {
   "cell_type": "markdown",
   "metadata": {},
   "source": [
    "4.14) Подсчитать количество строк в списке l1, длина которых больше 2х. Использовать генераторы, решить задачу в одну строку."
   ]
  },
  {
   "cell_type": "code",
   "execution_count": 10,
   "metadata": {},
   "outputs": [
    {
     "name": "stdout",
     "output_type": "stream",
     "text": [
      "5\n",
      "5\n"
     ]
    }
   ],
   "source": [
    "print(sum(1 for s in l1 if len(s)>2))\n",
    "#второй вариант\n",
    "print(len([len(item) for item in l1 if len(item) > 2]))"
   ]
  },
  {
   "cell_type": "markdown",
   "metadata": {},
   "source": [
    "4.15) Просуммировать произведение ключей на значения словаря d4."
   ]
  },
  {
   "cell_type": "code",
   "execution_count": 16,
   "metadata": {},
   "outputs": [
    {
     "name": "stdout",
     "output_type": "stream",
     "text": [
      "231\n"
     ]
    }
   ],
   "source": [
    "print(sum(key * value for key, value in d4.items()))"
   ]
  },
  {
   "cell_type": "markdown",
   "metadata": {},
   "source": [
    "4.16) На базе словаря d6 составить словарь d7 в котором нет пар ключ-значение с ключами, встречающимися в словаре d5. Использовать генераторы, решить задачу в одну строку."
   ]
  },
  {
   "cell_type": "code",
   "execution_count": 17,
   "metadata": {},
   "outputs": [
    {
     "name": "stdout",
     "output_type": "stream",
     "text": [
      "{'h': 23, 'i': 24, 'j': 25, 'k': 26, 'l': 27}\n"
     ]
    }
   ],
   "source": [
    "d7 = {key: value for key, value in d6.items() if key not in d5}\n",
    "print(d7)"
   ]
  },
  {
   "cell_type": "markdown",
   "metadata": {},
   "source": [
    "4.17) Создать список, в котором все числа списка l2 умножены на их номер в списке, остальные элементы сохранены на своих местах. Использовать генераторы, решить задачу в одну строку."
   ]
  },
  {
   "cell_type": "code",
   "execution_count": 23,
   "metadata": {},
   "outputs": [
    {
     "name": "stdout",
     "output_type": "stream",
     "text": [
      "[0, 4, -4, -9, 0, 55, 12]\n"
     ]
    }
   ],
   "source": [
    "l3 = [n*i if isinstance(n,int) else n for i, n in enumerate(l2)]\n",
    "print(l3)"
   ]
  },
  {
   "cell_type": "markdown",
   "metadata": {},
   "source": [
    "4.18) Создать список, в котором все отрицательные числа списка l2 исключены, остальные элементы сохранены на своих местах. Использовать генераторы, решить задачу в одну строку."
   ]
  },
  {
   "cell_type": "code",
   "execution_count": 26,
   "metadata": {},
   "outputs": [
    {
     "name": "stdout",
     "output_type": "stream",
     "text": [
      "[2, 4, 0, 11, 2]\n"
     ]
    }
   ],
   "source": [
    "l4 = [i for i in l2 if i>=0]\n",
    "print(l4)"
   ]
  },
  {
   "cell_type": "markdown",
   "metadata": {},
   "source": [
    "4.19) Создать список, в котором все отрицательные числа списка l2 заменены на их номер в списке, остальные элементы сохранены на своих местах. Использовать генераторы и тернарный оператор, решить задачу в одну строку."
   ]
  },
  {
   "cell_type": "code",
   "execution_count": 28,
   "metadata": {},
   "outputs": [
    {
     "name": "stdout",
     "output_type": "stream",
     "text": [
      "[2, 4, 2, 3, 0, 11, 2]\n"
     ]
    }
   ],
   "source": [
    "l5 = [i if n < 0 else n  for i, n in enumerate(l2)]\n",
    "print(l5)"
   ]
  },
  {
   "cell_type": "markdown",
   "metadata": {},
   "source": [
    "5.1) Написать задокументированную функцию умножения двух чисел. Для каких типов данная функция будет возвращать практически ценный результат? Написать примеры использования этой функции."
   ]
  },
  {
   "cell_type": "code",
   "execution_count": 32,
   "metadata": {},
   "outputs": [
    {
     "name": "stdout",
     "output_type": "stream",
     "text": [
      "6\n",
      "8.75\n"
     ]
    },
    {
     "data": {
      "text/plain": [
       "-6"
      ]
     },
     "execution_count": 32,
     "metadata": {},
     "output_type": "execute_result"
    }
   ],
   "source": [
    "def ymn (a,b):\n",
    "    return a*b\n",
    "print(ymn(2,3))\n",
    "print(ymn(2.5,3.5))\n",
    "ymn(2,-3)"
   ]
  },
  {
   "cell_type": "markdown",
   "metadata": {},
   "source": [
    "5.2) Написать функцию умножения принимающую от одного до трех параметров. Написать примеры использования этой функции с разным количеством параметров."
   ]
  },
  {
   "cell_type": "code",
   "execution_count": 41,
   "metadata": {},
   "outputs": [
    {
     "name": "stdout",
     "output_type": "stream",
     "text": [
      "16 16\n",
      "12.0 12.0\n"
     ]
    }
   ],
   "source": [
    "def multiply(a, b=None, c=None):\n",
    "    if b is None and c is None:\n",
    "        return a\n",
    "    elif c is None:\n",
    "        return a * b\n",
    "    else:\n",
    "        return a * b * c\n",
    "def ymn2 (a=1,b=1,c=1):\n",
    "    return a*b*c\n",
    "r1 = ymn2(16)\n",
    "r11 = multiply(16)\n",
    "r2  = ymn2(4, 2, 1.5)\n",
    "r22  = multiply(4, 2, 1.5)\n",
    "print(r1,r11)\n",
    "print(r2,r22)"
   ]
  },
  {
   "cell_type": "markdown",
   "metadata": {},
   "source": [
    "5.3) Функцию из задания 2 вызвать с приведенными ниже аргументами. Для случая a4 выбрать 3 первых и 3 последних значения.\n",
    "a1 = (15, 10 ,5)\n",
    "a2 = (3, 1)\n",
    "a3 = [2, 35, 55]\n",
    "a4 = (5, 10 ,15, 20)"
   ]
  },
  {
   "cell_type": "code",
   "execution_count": null,
   "metadata": {},
   "outputs": [],
   "source": [
    "a1 = (15, 10 ,5)\n",
    "a2 = (3, 1)\n",
    "a3 = [2, 35, 55]\n",
    "a4 = (5, 10 ,15, 20)\n",
    "\n",
    "result1 = multiply(*a1)\n",
    "result2 = multiply(*a2)\n",
    "result3 = multiply(*a3)\n",
    "result4 = multiply(*a4[:3]) + multiply(*a4[-3:])\n",
    "\n",
    "print(\"Результат 1:\", result1)\n",
    "print(\"Результат 2:\", result2)\n",
    "print(\"Результат 3:\", result3)\n",
    "print(\"Результат 4:\", result4)"
   ]
  },
  {
   "cell_type": "markdown",
   "metadata": {},
   "source": [
    "5.4) Реализовать функцию умножения, принимающую неограниченное количество значений. Написать примеры использования этой функции, в том числе с аргументами из задания 3."
   ]
  },
  {
   "cell_type": "code",
   "execution_count": 47,
   "metadata": {},
   "outputs": [
    {
     "name": "stdout",
     "output_type": "stream",
     "text": [
      "Результат 1: 24\n",
      "Результат 2: 50.0\n",
      "Результат 3: 120\n",
      "Результат 4: 3850\n"
     ]
    }
   ],
   "source": [
    "def multiply2 (*arg):\n",
    "     res = 1\n",
    "     for i in arg:\n",
    "         res *= i\n",
    "     return res\n",
    "result1 = multiply2(2, 3, 4)  # Результат: 24\n",
    "result2 = multiply2(10, 2, 5, 0.5)  # Результат: 50.0\n",
    "result3 = multiply2(1, 2, 3, 4, 5)  # Результат: 120\n",
    "result4 = multiply2(*a3)  # Результат: 3850\n",
    "\n",
    "print(\"Результат 1:\", result1)\n",
    "print(\"Результат 2:\", result2)\n",
    "print(\"Результат 3:\", result3)\n",
    "print(\"Результат 4:\", result4)\n",
    "\n"
   ]
  },
  {
   "cell_type": "markdown",
   "metadata": {},
   "source": [
    "5.5) Реализовать функции для выполнения четырех арифмитических операций преобразующих целые числа в целое число. Для двух заранее заданных целых чисел выполнить выбранную пользователем арифметическую операцию."
   ]
  },
  {
   "cell_type": "code",
   "execution_count": 48,
   "metadata": {},
   "outputs": [
    {
     "name": "stdout",
     "output_type": "stream",
     "text": [
      "Результат: 13\n"
     ]
    }
   ],
   "source": [
    "def add(a, b):\n",
    "    return a + b\n",
    "\n",
    "def subtract(a, b):\n",
    "    return a - b\n",
    "\n",
    "def multiply3(a, b):\n",
    "    return a * b\n",
    "\n",
    "def divide(a, b):\n",
    "    return a // b\n",
    "\n",
    "# Заранее заданные целые числа\n",
    "number1 = 10\n",
    "number2 = 3\n",
    "\n",
    "# Выбор арифметической операции пользователем\n",
    "operation = input(\"Выберите операцию (+, -, *, /): \")\n",
    "\n",
    "if operation == \"+\":\n",
    "    result = add(number1, number2)\n",
    "elif operation == \"-\":\n",
    "    result = subtract(number1, number2)\n",
    "elif operation == \"*\":\n",
    "    result = multiply3(number1, number2)\n",
    "elif operation == \"/\":\n",
    "    result = divide(number1, number2)\n",
    "else:\n",
    "    print(\"Вы выбрали недопустимую операцию.\")\n",
    "    result = None\n",
    "\n",
    "# Вывод результата\n",
    "if result is not None:\n",
    "    print(\"Результат:\", result)\n"
   ]
  },
  {
   "cell_type": "markdown",
   "metadata": {},
   "source": [
    "5.6) Написать калькулятор для строковых выражений вида '<число> <операция> <число>', где <число> - целое число, например 113, <арифмитическая операция> - одна из операций +,-,*,/(деление нацело),%(остаток от деления),^(возведение в степень). Пример calc('13 - 5') -> 8"
   ]
  },
  {
   "cell_type": "markdown",
   "metadata": {},
   "source": [
    "5.7) Реализовать функцию которая выводит на экран сообщение вида:\n",
    "'Автомобиль марки: BMW, модели: X5, цвета: белый, 2006 года выпуска, с пробегом: 215 000 км, c номерным знаком: X012АМ77, цена: 1 115 000 руб.'\n",
    "В функцию передаются именованные параметры изменяемой части сообщения, лубой из параметров может быть не задан пользователем функции и автоматически заменен на разумное сообщение в соответствующей части строки. Получить вывод текстового сообщения для словарей c1, c2."
   ]
  },
  {
   "cell_type": "markdown",
   "metadata": {},
   "source": [
    "5.8) Написать функцию, которая преобразует целое число (от 0 до 99) в текстовое написание числа на русском языке. Пример: to_text(15) -> 'Пятнадцать'"
   ]
  },
  {
   "cell_type": "code",
   "execution_count": 49,
   "metadata": {},
   "outputs": [
    {
     "name": "stdout",
     "output_type": "stream",
     "text": [
      "пятнадцать\n"
     ]
    }
   ],
   "source": [
    "def to_text(num):\n",
    "    units = ['', 'один', 'два', 'три', 'четыре', 'пять', 'шесть', 'семь', 'восемь', 'девять', 'десять',\n",
    "             'одиннадцать', 'двенадцать', 'тринадцать', 'четырнадцать', 'пятнадцать', 'шестнадцать',\n",
    "             'семнадцать', 'восемнадцать', 'девятнадцать']\n",
    "    tens = ['', '', 'двадцать', 'тридцать', 'сорок', 'пятьдесят', 'шестьдесят', 'семьдесят', 'восемьдесят', 'девяносто']\n",
    "\n",
    "    if num < 20:\n",
    "        return units[num]\n",
    "    else:\n",
    "        unit = num % 10\n",
    "        ten = num // 10\n",
    "        return tens[ten] + ' ' + units[unit]\n",
    "\n",
    "# Пример использования\n",
    "result = to_text(15)\n",
    "print(result)  # Вывод: 'Пятнадцать'\n"
   ]
  },
  {
   "cell_type": "markdown",
   "metadata": {},
   "source": [
    "5.9) Написать функцию, которая преобразует целое число (от 0 до 999) из текстового представления на руссокм языке в число типа int. Пример: to_int('тридцать три') -> 33"
   ]
  },
  {
   "cell_type": "code",
   "execution_count": null,
   "metadata": {},
   "outputs": [],
   "source": [
    "def to_int(text):\n",
    "    numbers_dict = {\n",
    "        'ноль': 0, 'один': 1, 'два': 2, 'три': 3, 'четыре': 4, 'пять': 5,\n",
    "        'шесть': 6, 'семь': 7, 'восемь': 8, 'девять': 9, 'десять': 10,\n",
    "        'одиннадцать': 11, 'двенадцать': 12, 'тринадцать': 13, 'четырнадцать': 14, 'пятнадцать': 15,\n",
    "        'шестнадцать': 16, 'семнадцать': 17, 'восемнадцать': 18, 'девятнадцать': 19, 'двадцать': 20,\n",
    "        'тридцать': 30, 'сорок': 40, 'пятьдесят': 50, 'шестьдесят': 60, 'семьдесят': 70,\n",
    "        'восемьдесят': 80, 'девяносто': 90, 'сто': 100, 'двести': 200, 'триста': 300,\n",
    "        'четыреста': 400, 'пятьсот': 500, 'шестьсот': 600, 'семьсот': 700, 'восемьсот': 800,\n",
    "        'девятьсот': 900\n",
    "    }\n",
    "  \n",
    "    # Разделяем входной текст по пробелам\n",
    "    words = text.split()\n",
    "\n",
    "    # Здесь будем хранить результирующее число\n",
    "    result = 0\n",
    "\n",
    "    # Если в тексте только одно слово\n",
    "    if len(words) == 1:\n",
    "        return numbers_dict[words[0]]\n",
    "\n",
    "    # Перебираем слова\n",
    "    for i in range(len(words)):\n",
    "        current_word = words[i]\n",
    "\n",
    "        # Если текущее слово равно \"и\", пропускаем его\n",
    "        if current_word == 'и':\n",
    "            continue\n",
    "\n",
    "        # Если текущее слово есть в словаре\n",
    "        if current_word in numbers_dict:\n",
    "            # Получаем число из словаря\n",
    "            current_number = numbers_dict[current_word]\n",
    "            # Если текущее слово - сотни (сто, двести, триста...)\n",
    "            if current_number >= 100:\n",
    "                # Если текущее слово является последним в тексте или следующее слово - \"и\", то просто добавляем число к результату\n",
    "                if i == len(words) - 1 or words[i + 1] == 'и':\n",
    "                    result += current_number\n",
    "                # Если следующее слово не \"и\", значит текущее слово - сотни и следующее - десятки или единицы\n",
    "                else:\n",
    "                    # Получаем следующее слово\n",
    "                    next_word = words[i + 1]\n",
    "                    # Получаем число из словаря\n",
    "                    next_number = numbers_dict[next_word]\n",
    "                    # Добавляем сумму чисел сотен и другого разряда\n",
    "                    result += current_number + next_number\n",
    "                    # Перемещаем указатель на следующее слово\n",
    "                    i += 1\n",
    "            # Если текущее слово - десятки (двадцать, тридцать...)\n",
    "            elif current_number >= 20:\n",
    "                if i == len(words) - 1 or words[i + 1] == 'и':\n",
    "                    result += current_number\n",
    "                else:\n",
    "                    next_word = words[i + 1]\n",
    "                    next_number = numbers_dict[next_word]\n",
    "                    result += current_number + next_number\n",
    "                    i += 1\n",
    "            # Если текущее слово - единицы (один, два...)\n",
    "            else:\n",
    "                result += current_number\n",
    "                \n",
    "    return result\n",
    "print(to_int('тридцать три'))  # Output: 33"
   ]
  },
  {
   "cell_type": "markdown",
   "metadata": {},
   "source": [
    "6.1) Написать калькулятор для строковых выражений вида '<число> <операция> <число>', где <число> - не отрицательное целое число меньшее 100, записанное словами, например \"тридцать четыре\", <арифмитическая операция> - одна из операций \"плюс\",\"минус\",\"умножить\". Результат выполнения операции вернуть в виде текстового представления числа. Пример calc('двадцать пять плюс тринадцать') -> \"тридцать восемь\""
   ]
  }
 ],
 "metadata": {
  "kernelspec": {
   "display_name": "Python 3",
   "language": "python",
   "name": "python3"
  },
  "language_info": {
   "codemirror_mode": {
    "name": "ipython",
    "version": 3
   },
   "file_extension": ".py",
   "mimetype": "text/x-python",
   "name": "python",
   "nbconvert_exporter": "python",
   "pygments_lexer": "ipython3",
   "version": "3.12.2"
  }
 },
 "nbformat": 4,
 "nbformat_minor": 2
}
