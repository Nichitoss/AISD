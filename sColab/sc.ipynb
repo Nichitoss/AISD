{
 "cells": [
  {
   "cell_type": "markdown",
   "metadata": {},
   "source": [
    "Класс – квадратное уравнение. Методы – расчет корней уравнения. Поля – корни уравнения, коэффициенты  a ,  b ,  c ."
   ]
  },
  {
   "cell_type": "code",
   "execution_count": 5,
   "metadata": {},
   "outputs": [
    {
     "name": "stdout",
     "output_type": "stream",
     "text": [
      "x1 = -0.15 \n",
      "x2 = -19.85\n",
      "None\n"
     ]
    }
   ],
   "source": [
    "import math\n",
    "class kv_yr:\n",
    "    def __init__(self,a,b,c):\n",
    "        self.a = a\n",
    "        self.b = b\n",
    "        self.c = c\n",
    "    def calc(self):\n",
    "        D = self.b**2 - 4 * self.a * self.c\n",
    "        if D > 0:\n",
    "            x1 = (-self.b + math.sqrt(D)) / (2 * self.a)\n",
    "            x2 = (-self.b - math.sqrt(D)) / (2 * self.a)\n",
    "            print(\"x1 = %.2f \\nx2 = %.2f\" % (x1, x2))\n",
    "        elif D == 0:\n",
    "            x = -self.b / (2 * self.a)\n",
    "            print(\"x = %.2f\" % x)\n",
    "        else:\n",
    "            print(\"Корней нет\")\n",
    "test  = kv_yr(1,20,3)\n",
    "print(test.calc())\n"
   ]
  },
  {
   "cell_type": "markdown",
   "metadata": {},
   "source": [
    "Составьте описание класса многочлена вида  ax2+bx+c . Включите в класс метод вывода описания многочлена на экран и метод вычисления значения многочлена для заданного аргумента, а также свойства, позволяющие: определить, имеет ли квадратное уравнение действительные корни; умножить многочлен на скаляр."
   ]
  },
  {
   "cell_type": "code",
   "execution_count": 2,
   "metadata": {},
   "outputs": [
    {
     "name": "stdout",
     "output_type": "stream",
     "text": [
      "1x^2 + -3x + 2\n",
      "0\n",
      "True\n",
      "2x^2 + -6x + 4\n"
     ]
    }
   ],
   "source": [
    "class qv:\n",
    "    def __init__(self, a, b, c):\n",
    "        self.a = a\n",
    "        self.b = b\n",
    "        self.c = c\n",
    "\n",
    "    def description(self):\n",
    "        return f\"{self.a}x^2 + {self.b}x + {self.c}\"\n",
    "\n",
    "    def calculate_value(self, x):\n",
    "        return self.a*x**2 + self.b*x + self.c\n",
    "\n",
    "    def has_real_roots(self):\n",
    "        discriminant = self.b**2 - 4*self.a*self.c\n",
    "        return discriminant >= 0\n",
    "\n",
    "    def multiply_by_scalar(self, scalar):\n",
    "        self.a *= scalar\n",
    "        self.b *= scalar\n",
    "        self.c *= scalar\n",
    "\n",
    "# Пример использования:\n",
    "polynomial = qv(1, -3, 2)\n",
    "print(polynomial.description())\n",
    "print(polynomial.calculate_value(2))\n",
    "print(polynomial.has_real_roots())\n",
    "polynomial.multiply_by_scalar(2)\n",
    "print(polynomial.description())\n"
   ]
  },
  {
   "cell_type": "markdown",
   "metadata": {},
   "source": [
    "Создайте класс КЛИЕНТ с методами, позволяющими вывести на экран информацию о клиентах банка, а также определить соответствие клиента критерию поиска. Создайте дочерние классы ВКЛАДЧИК (фамилия, дата открытия вклада, размер вклада, процент по вкладу), КРЕДИТОР (фамилия, дата выдачи кредита, размер кредита, процент по кредиту, остаток долга), ОРГАНИЗАЦИЯ (название, дата открытия счета, номер счета, сумма на счету) со своими методами вывода информации на экран и определения соответствия дате (открытия вклада, выдаче кредита, открытия счета). Создайте список из  n  клиентов, выведите полную информацию из базы на экран, а также организуйте поиск клиентов, начавших сотрудничать с банком в заданную дату."
   ]
  },
  {
   "cell_type": "code",
   "execution_count": 1,
   "metadata": {},
   "outputs": [
    {
     "name": "stdout",
     "output_type": "stream",
     "text": [
      "Фамилия: Иванов\n",
      "Дата открытия вклада: 2021-01-01\n",
      "Размер вклада: 5000\n",
      "Процент по вкладу: 5\n",
      "--------------------\n",
      "Фамилия: Петров\n",
      "Дата выдачи кредита: 2020-09-15\n",
      "Размер кредита: 10000\n",
      "Процент по кредиту: 10\n",
      "Остаток долга: 5000\n",
      "--------------------\n",
      "Фамилия: ООО Рога и Копыта\n",
      "Дата открытия счета: 2021-03-10\n",
      "Номер счета: 1234567890\n",
      "Сумма на счету: 200000\n",
      "--------------------\n",
      "Фамилия: Смирнова\n",
      "Дата открытия вклада: 2021-02-20\n",
      "Размер вклада: 10000\n",
      "Процент по вкладу: 3\n",
      "--------------------\n",
      "Фамилия: Сидоров\n",
      "Дата выдачи кредита: 2020-11-30\n",
      "Размер кредита: 5000\n",
      "Процент по кредиту: 7\n",
      "Остаток долга: 2000\n",
      "--------------------\n",
      "Фамилия: АО Новые Технологии\n",
      "Дата открытия счета: 2021-04-05\n",
      "Номер счета: 0987654321\n",
      "Сумма на счету: 100000\n",
      "--------------------\n",
      "Клиенты, начавшие сотрудничать с банком в дату 2021-02-20:\n",
      "Фамилия: Смирнова\n",
      "Дата открытия вклада: 2021-02-20\n",
      "Размер вклада: 10000\n",
      "Процент по вкладу: 3\n",
      "--------------------\n"
     ]
    }
   ],
   "source": [
    "class Client:\n",
    "    def __init__(self, last_name):\n",
    "        self.last_name = last_name\n",
    "\n",
    "    def display_info(self):\n",
    "        print(\"Фамилия:\", self.last_name)\n",
    "\n",
    "\n",
    "class Depositor(Client):\n",
    "    def __init__(self, last_name, deposit_date, deposit_amount, deposit_interest):\n",
    "        super().__init__(last_name)\n",
    "        self.deposit_date = deposit_date\n",
    "        self.deposit_amount = deposit_amount\n",
    "        self.deposit_interest = deposit_interest\n",
    "\n",
    "    def display_info(self):\n",
    "        super().display_info()\n",
    "        print(\"Дата открытия вклада:\", self.deposit_date)\n",
    "        print(\"Размер вклада:\", self.deposit_amount)\n",
    "        print(\"Процент по вкладу:\", self.deposit_interest)\n",
    "\n",
    "    def is_matching_criteria(self, search_date):\n",
    "        return search_date == self.deposit_date\n",
    "\n",
    "\n",
    "class Creditor(Client):\n",
    "    def __init__(self, last_name, credit_issue_date, credit_amount, credit_interest, remaining_debt):\n",
    "        super().__init__(last_name)\n",
    "        self.credit_issue_date = credit_issue_date\n",
    "        self.credit_amount = credit_amount\n",
    "        self.credit_interest = credit_interest\n",
    "        self.remaining_debt = remaining_debt\n",
    "\n",
    "    def display_info(self):\n",
    "        super().display_info()\n",
    "        print(\"Дата выдачи кредита:\", self.credit_issue_date)\n",
    "        print(\"Размер кредита:\", self.credit_amount)\n",
    "        print(\"Процент по кредиту:\", self.credit_interest)\n",
    "        print(\"Остаток долга:\", self.remaining_debt)\n",
    "\n",
    "    def is_matching_criteria(self, search_date):\n",
    "        return search_date == self.credit_issue_date\n",
    "\n",
    "\n",
    "class Organization(Client):\n",
    "    def __init__(self, name, account_open_date, account_number, account_balance):\n",
    "        super().__init__(name)\n",
    "        self.account_open_date = account_open_date\n",
    "        self.account_number = account_number\n",
    "        self.account_balance = account_balance\n",
    "\n",
    "    def display_info(self):\n",
    "        super().display_info()\n",
    "        print(\"Дата открытия счета:\", self.account_open_date)\n",
    "        print(\"Номер счета:\", self.account_number)\n",
    "        print(\"Сумма на счету:\", self.account_balance)\n",
    "\n",
    "    def is_matching_criteria(self, search_date):\n",
    "        return search_date == self.account_open_date\n",
    "\n",
    "\n",
    "# Создание списка клиентов\n",
    "clients = [\n",
    "    Depositor(\"Иванов\", \"2021-01-01\", 5000, 5),\n",
    "    Creditor(\"Петров\", \"2020-09-15\", 10000, 10, 5000),\n",
    "    Organization(\"ООО Рога и Копыта\", \"2021-03-10\", \"1234567890\", 200000),\n",
    "    Depositor(\"Смирнова\", \"2021-02-20\", 10000, 3),\n",
    "    Creditor(\"Сидоров\", \"2020-11-30\", 5000, 7, 2000),\n",
    "    Organization(\"АО Новые Технологии\", \"2021-04-05\", \"0987654321\", 100000),\n",
    "]\n",
    "\n",
    "# Вывод полной информации о клиентах\n",
    "for client in clients:\n",
    "    client.display_info()\n",
    "    print(\"-\" * 20)\n",
    "\n",
    "# Поиск клиентов по заданной дате\n",
    "search_date = \"2021-02-20\"\n",
    "matching_clients = []\n",
    "\n",
    "for client in clients:\n",
    "    if client.is_matching_criteria(search_date):\n",
    "        matching_clients.append(client)\n",
    "\n",
    "print(\"Клиенты, начавшие сотрудничать с банком в дату\", search_date + \":\")\n",
    "for client in matching_clients:\n",
    "    client.display_info()\n",
    "    print(\"-\" * 20)\n"
   ]
  },
  {
   "cell_type": "markdown",
   "metadata": {},
   "source": [
    "а) Используя лямбда-функцию, найти, начинается ли данная строка с заданного символа."
   ]
  },
  {
   "cell_type": "code",
   "execution_count": 3,
   "metadata": {},
   "outputs": [
    {
     "name": "stdout",
     "output_type": "stream",
     "text": [
      "True\n"
     ]
    }
   ],
   "source": [
    "string = \"example\"\n",
    "character = \"e\"\n",
    "\n",
    "starts_with = lambda string, character: string.startswith(character)\n",
    "\n",
    "print(starts_with(string, character))\n"
   ]
  },
  {
   "cell_type": "markdown",
   "metadata": {},
   "source": [
    "б) Суммируйте длину имён заданного списка после удаления имён, начинающихся со строчной буквы. Используйте лямбда-функцию. Пример: ['sally', 'Dylan', 'rebecca', 'Diana', 'Joanne', 'keith'] → 16."
   ]
  },
  {
   "cell_type": "code",
   "execution_count": 4,
   "metadata": {},
   "outputs": [
    {
     "name": "stdout",
     "output_type": "stream",
     "text": [
      "16\n"
     ]
    }
   ],
   "source": [
    "names = ['sally', 'Dylan', 'rebecca', 'Diana', 'Joanne', 'keith']\n",
    "\n",
    "filtered_names = filter(lambda name: not name[0].islower(), names)\n",
    "total_length = sum(len(name) for name in filtered_names)\n",
    "\n",
    "print(total_length)\n"
   ]
  },
  {
   "cell_type": "markdown",
   "metadata": {},
   "source": [
    "в) Удалите определённые слова из заданного списка с помощью лямбда- функци"
   ]
  },
  {
   "cell_type": "code",
   "execution_count": 5,
   "metadata": {},
   "outputs": [
    {
     "name": "stdout",
     "output_type": "stream",
     "text": [
      "['apple', 'orange']\n"
     ]
    }
   ],
   "source": [
    "words = [\"apple\", \"banana\", \"orange\", \"kiwi\"]\n",
    "\n",
    "to_remove = [\"banana\", \"kiwi\"]\n",
    "\n",
    "filtered_words = filter(lambda word: word not in to_remove, words)\n",
    "result = list(filtered_words)\n",
    "\n",
    "print(result)\n"
   ]
  }
 ],
 "metadata": {
  "kernelspec": {
   "display_name": "Python 3",
   "language": "python",
   "name": "python3"
  },
  "language_info": {
   "codemirror_mode": {
    "name": "ipython",
    "version": 3
   },
   "file_extension": ".py",
   "mimetype": "text/x-python",
   "name": "python",
   "nbconvert_exporter": "python",
   "pygments_lexer": "ipython3",
   "version": "3.12.2"
  }
 },
 "nbformat": 4,
 "nbformat_minor": 2
}
