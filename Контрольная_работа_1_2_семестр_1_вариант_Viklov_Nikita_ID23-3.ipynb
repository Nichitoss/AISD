{
 "cells": [
  {
   "cell_type": "markdown",
   "metadata": {},
   "source": [
    "### Контрольная работа № 1.\n",
    "### Вариант 1.\n",
    "#### Студент __________________________ gryppa ______________________"
   ]
  },
  {
   "cell_type": "markdown",
   "metadata": {},
   "source": [
    "1. Создайте класс Length (Длина), имеющий свойства\n",
    "\n",
    "• value (значение),\n",
    "\n",
    "• unit (единица измерения).\n",
    "\n",
    "При изменении единицы измерения значение должно соответственно меняться. Например, при переходе от сантиметров к метрам значение должно уменьшаться в 100 раз. Допустимые значения свойства unit: ‘см’, ‘м’, ‘км’. Организуйте эту проверку. Продемонстрируйте работу с классом."
   ]
  },
  {
   "cell_type": "code",
   "execution_count": 3,
   "metadata": {},
   "outputs": [
    {
     "name": "stdout",
     "output_type": "stream",
     "text": [
      "100 см\n",
      "1.0 м\n",
      "0.001 км\n"
     ]
    }
   ],
   "source": [
    "class Length:\n",
    "    def __init__(self, value, unit):\n",
    "        self._value = value\n",
    "        self._unit = unit\n",
    "        self._valid_units = ['см', 'м', 'км']\n",
    "\n",
    "    @property\n",
    "    def value(self):\n",
    "        return self._value\n",
    "\n",
    "    @property\n",
    "    def unit(self):\n",
    "        return self._unit\n",
    "\n",
    "    @unit.setter\n",
    "    def unit(self, new_unit):\n",
    "        if new_unit in self._valid_units:\n",
    "            if self._unit == 'см':\n",
    "                if new_unit == 'м':\n",
    "                    self._value /= 100\n",
    "                elif new_unit == 'км':\n",
    "                    self._value /= 100000\n",
    "            elif self._unit == 'м':\n",
    "                if new_unit == 'см':\n",
    "                    self._value *= 100\n",
    "                elif new_unit == 'км':\n",
    "                    self._value /= 1000\n",
    "            elif self._unit == 'км':\n",
    "                if new_unit == 'см':\n",
    "                    self._value *= 100000\n",
    "                elif new_unit == 'м':\n",
    "                    self._value *= 1000\n",
    "\n",
    "            self._unit = new_unit\n",
    "        else:\n",
    "            print(\"Ошибка: Недопустимая единица измерения\")\n",
    "\n",
    "# Пример использования\n",
    "length = Length(100, 'см')\n",
    "print(length.value, length.unit)  # Вывод: 100 см\n",
    "length.unit = 'м'\n",
    "print(length.value, length.unit)  # Вывод: 1.0 м\n",
    "length.unit = 'км'\n",
    "print(length.value, length.unit)  # Вывод: 0.00001 км\n"
   ]
  },
  {
   "cell_type": "markdown",
   "metadata": {},
   "source": [
    "2. Создайте класс vedomost, имеющий\n",
    "атрибут класса:\n",
    "\n",
    "• spis_discp (значением является список с названиями дисциплин);\n",
    "\n",
    "свойства:\n",
    "\n",
    "• discp (при задании значения проверять наличие дисциплины в атрибуте spis_discp),\n",
    "\n",
    "• gryppa;\n",
    "\n",
    "методы:\n",
    "\n",
    "• put – добавляет в vedomost информацию об оценке студента (surname, mark – параметры метода). Для хранения данных внутри класса используйте словарь, в котором ключом является surname студента. Возможные оценки – «отлично», «хорошо», «удовл.», «неудовл.», «н/я»;\n",
    "\n",
    "• get – возвращает оценку, полученную студентом (surname студента – параметр метода);\n",
    "\n",
    "• change – изменяет оценку, полученную студентом (surname студента и new mark – параметры метода);\n",
    "\n",
    "• del – удаляет информацию о студенте из ведомости (surname студента – параметр метода);\n",
    "\n",
    "• result – возвращает кортеж из 5 чисел (количество каждого вида оценок в ведомости);\n",
    "\n",
    "• __init__ – конструктор;\n",
    "\n",
    "• __str__ – возвращает строку, содержащую заголовки (название экзамена, gryppa) и результаты экзамена в виде таблицы;\n",
    "\n",
    "• count – возвращает количество студентов в ведомости;\n",
    "\n",
    "• names – возвращает список фамилий, имеющихся в ведомости.\n",
    "\n",
    "Продемонстрируйте работу с классом. \n"
   ]
  },
  {
   "cell_type": "code",
   "execution_count": null,
   "metadata": {},
   "outputs": [],
   "source": [
    "class Gradebook:\n",
    "    spis_discp = ['Математика', 'Физика', 'Химия']\n",
    "\n",
    "    def __init__(self, discp, gryppa):\n",
    "        if discp in Gradebook.spis_discp:\n",
    "            self.discp = discp\n",
    "        else:\n",
    "            raise ValueError(\"discp не найдена в списке\")\n",
    "        self.gryppa = gryppa\n",
    "        self.vedomost = {}\n",
    "\n",
    "    def put(self, surname, mark):\n",
    "        if mark in ['отлично', 'хорошо', 'удовл.', 'неудовл.', 'н/я']:\n",
    "            self.vedomost[surname] = mark\n",
    "        else:\n",
    "            raise ValueError(\"Некорректная mark\")\n",
    "\n",
    "    def get(self, surname):\n",
    "        return self.vedomost.get(surname)\n",
    "\n",
    "    def change(self, surname, new_mark):\n",
    "        if new_mark in ['отлично', 'хорошо', 'удовл.', 'неудовл.', 'н/я']:\n",
    "            self.vedomost[surname] = new_mark\n",
    "        else:\n",
    "            raise ValueError(\"Некорректная mark\")\n",
    "\n",
    "    def delete(self, surname):\n",
    "        del self.vedomost[surname]\n",
    "\n",
    "    def result(self):\n",
    "        counts = [0, 0, 0, 0, 0]\n",
    "        for mark in self.vedomost.values():\n",
    "            if mark == 'отлично':\n",
    "                counts[0] += 1\n",
    "            elif mark == 'хорошо':\n",
    "                counts[1] += 1\n",
    "            elif mark == 'удовл.':\n",
    "                counts[2] += 1\n",
    "            elif mark == 'неудовл.':\n",
    "                counts[3] += 1\n",
    "            elif mark == 'н/я':\n",
    "                counts[4] += 1\n",
    "        return tuple(counts)\n",
    "\n",
    "    def count(self):\n",
    "        return len(self.vedomost)\n",
    "\n",
    "    def names(self):\n",
    "        return list(self.vedomost.keys())\n",
    "\n",
    "    def __str__(self):\n",
    "        table = f\"vedomost по предмету: {self.discp}\\ngryppa: {self.gryppa}\\n\\n\"\n",
    "        table += \"surname\\t\\tmark\\n\"\n",
    "        for surname, mark in self.vedomost.items():\n",
    "            table += f\"{surname}\\t\\t{mark}\\n\"\n",
    "        return table\n",
    "\n",
    "# Пример использования класса\n",
    "vedomost = Gradebook('Математика', 'gryppa А')\n",
    "vedomost.put('Иванов', 'отлично')\n",
    "vedomost.put('Петров', 'хорошо')\n",
    "vedomost.put('Сидоров', 'удовл.')\n",
    "print(vedomost)\n",
    "print(\"Количество студентов:\", vedomost.count())\n",
    "print(\"Список фамилий:\", vedomost.names())\n",
    "print(\"Результаты экзамена:\", vedomost.result())"
   ]
  },
  {
   "cell_type": "markdown",
   "metadata": {},
   "source": [
    "3. Создайте класс Заказ(Order), у которого есть свойства код_товара(code), цена(price), количество(count) и методы __init__ и __str__.\n",
    "\n",
    "Создайте 2 класса-потомка: Опт(Opt) и Розница(Retail).\n",
    "В этих классах создайте методы __init__, __str__.и сумма_заказа(summa), позволяющий узнать стоимость заказа.\n",
    "Для опта стоимость единицы товара составляет 95% от цены, а при покупке более 500 штук – 90% цены.\n",
    "В розницу стоимость единицы товара составляет 100% цены. Стоимость заказа равна произведению цены на количество. \n",
    "\n",
    "Продемонстрируйте работу с классами, создав необходимые объекты и обратившись к их свойствам и методам\n"
   ]
  },
  {
   "cell_type": "code",
   "execution_count": 14,
   "metadata": {},
   "outputs": [
    {
     "name": "stdout",
     "output_type": "stream",
     "text": [
      "Opt: 001 , price 100 , count 1000\n",
      "Total price opt (0, 9000)\n",
      "Retail: 002 , price 80 , count 30\n",
      "Total price retail 2400\n"
     ]
    }
   ],
   "source": [
    "# Решение 3.\n",
    "class Order:\n",
    "    def __init__(self, code, price, count):\n",
    "        self.code = code\n",
    "        self.price = price\n",
    "        self.count = count \n",
    "\n",
    "    def __str__(self):\n",
    "        return f\"Order: {self.code} , price {self.price} , count {self.count}\"\n",
    "    \n",
    "class Opt(Order):\n",
    "    def __init__(self, code, price, count):\n",
    "        super().__init__(code,price,count)\n",
    "\n",
    "    def __str__(self):\n",
    "        return f\"Opt: {self.code} , price {self.price} , count {self.count}\"\n",
    "    \n",
    "\n",
    "    def summa(self):\n",
    "        if self.count > 500:\n",
    "            return self.price * 0,9 * self.count\n",
    "        else:\n",
    "            return self.price * 0,95 * self.count\n",
    "        \n",
    "class Retail(Order):\n",
    "    def __init__(self, code, price, count):\n",
    "        super().__init__(code,price,count)\n",
    "        \n",
    "    def __str__(self):\n",
    "        return f\"Retail: {self.code} , price {self.price} , count {self.count}\"\n",
    "    \n",
    "\n",
    "    def summa(self):\n",
    "        return self.price * self.count\n",
    "    \n",
    "opt_ord = Opt('001',100,1000)\n",
    "print(opt_ord)\n",
    "print(f\"Total price opt {opt_ord.summa()}\")\n",
    "retail_ord = Retail('002',80,30)\n",
    "print(retail_ord)\n",
    "print(f\"Total price retail {retail_ord.summa()}\")\n"
   ]
  },
  {
   "cell_type": "markdown",
   "metadata": {},
   "source": [
    "4. Написать функцию my_func_1(lst), которая переворачивает список вложенных списков с произвольным уровнем вложенности.\n",
    "Любой элемент, не являющийся списком, не должен быть изменен.\n",
    "\n",
    "Примеры, демонстрирующие ожидаемое поведение функции:\n",
    "\n",
    "assert my_func_1(42) == 42\n",
    "\n",
    "assert my_func_1([]) == []\n",
    "\n",
    "assert my_func_1([1, 2]) == [2, 1]\n",
    "\n",
    "assert my_func_1((1, 2)) == (1, 2)\n",
    "\n",
    "assert my_func_1([[1, 2], [3, [4, 5]], 6]) == [6, [[5, 4], 3], [2, 1]]\n",
    "\n",
    "assert my_func_1(['123', '456', '789', {10: [11, 12], 13: 14}, (15, 16)]) == [(15, 16), {10: [11, 12], 13: 14}, '789', '456', '123']\n",
    "\n",
    "assert my_func_1([[[[[1, 2]]]]]) == [[[[[2, 1]]]]]"
   ]
  },
  {
   "cell_type": "code",
   "execution_count": 2,
   "metadata": {},
   "outputs": [],
   "source": [
    "# Решение 4.\n",
    "def my_func_1(lst):\n",
    "    if isinstance(lst,list):\n",
    "        return [my_func_1(item) for item in reversed(lst)]\n",
    "    else:\n",
    "        return lst\n",
    "\n",
    "assert my_func_1(42) == 42\n",
    "\n",
    "assert my_func_1([]) == []\n",
    "\n",
    "assert my_func_1([1, 2]) == [2, 1]\n",
    "\n",
    "assert my_func_1((1, 2)) == (1, 2)\n",
    "\n",
    "assert my_func_1([[1, 2], [3, [4, 5]], 6]) == [6, [[5, 4], 3], [2, 1]]\n",
    "\n",
    "assert my_func_1(['123', '456', '789', {10: [11, 12], 13: 14}, (15, 16)]) == [(15, 16), {10: [11, 12], 13: 14}, '789', '456', '123']\n",
    "\n",
    "assert my_func_1([[[[[1, 2]]]]]) == [[[[[2, 1]]]]] "
   ]
  },
  {
   "cell_type": "markdown",
   "metadata": {},
   "source": [
    "5.При помощи механизма map/filter/reduce возвести в квадрат числа от 1 до 100, и рассчитать их сумму, не включая в сумму числа, кратные 9. Написать реализацию в одну строку."
   ]
  },
  {
   "cell_type": "code",
   "execution_count": 1,
   "metadata": {},
   "outputs": [
    {
     "name": "stdout",
     "output_type": "stream",
     "text": [
      "225589\n"
     ]
    }
   ],
   "source": [
    "# Решение 5.\n",
    "from functools import reduce\n",
    "print(reduce(lambda x, y: x + y, filter(lambda x: x % 9 != 0, map(lambda x: x**2, range(1, 101)))))"
   ]
  }
 ],
 "metadata": {
  "kernelspec": {
   "display_name": "Python 3 (ipykernel)",
   "language": "python",
   "name": "python3"
  },
  "language_info": {
   "codemirror_mode": {
    "name": "ipython",
    "version": 3
   },
   "file_extension": ".py",
   "mimetype": "text/x-python",
   "name": "python",
   "nbconvert_exporter": "python",
   "pygments_lexer": "ipython3",
   "version": "3.11.3"
  }
 },
 "nbformat": 4,
 "nbformat_minor": 4
}
