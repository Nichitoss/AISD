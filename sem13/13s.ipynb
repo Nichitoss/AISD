{
 "cells": [
  {
   "cell_type": "markdown",
   "metadata": {},
   "source": [
    "1) Реализовать простейший динамический массив, поддерживающий добавление элемента в конец массива при помощи метода append(e).\n",
    "Также должны поддерживаться следующие операции:\n",
    "•\tизвлечение элемента по индексу;\n",
    "•\tустанавка нового значения по индексу;\n",
    "•\tполучение текущей длины массива.\n",
    "1.1) Добавить реализацию удаления элемента из любого места массива и поддержку корректного вывода массива при помощи функции print."
   ]
  },
  {
   "cell_type": "code",
   "execution_count": 17,
   "metadata": {},
   "outputs": [
    {
     "name": "stdout",
     "output_type": "stream",
     "text": [
      "Динамический массив:  [1, 2, 3, 4]\n",
      "Добавили элемент в конец массива:  11\n",
      "Динамический массив:  [1, 2, 3, 4, 11]\n",
      "Yстановка нового элемента по индексу:  10\n",
      "Динамический массив:  [1, 2, 3, 10, 11]\n",
      "Получение текущей длины массива:  5\n",
      "Динамический массив:  [1, 2, 3, 10, 11]\n",
      "Удалили элемент:  [1, 2, 10, 11]\n"
     ]
    }
   ],
   "source": [
    "a=[1,2,3,4]\n",
    "print(\"Динамический массив: \", a)\n",
    "a.append(11)\n",
    "#извлечение элемента по индексу \n",
    "print(\"Добавили элемент в конец массива: \",a[4])\n",
    "print(\"Динамический массив: \", a)\n",
    "#установка нового элемента по индексу\n",
    "a[3]=10\n",
    "print(\"Yстановка нового элемента по индексу: \",a[3])\n",
    "print(\"Динамический массив: \", a)\n",
    "#получение текущей длины массива.\n",
    "print(\"Получение текущей длины массива: \",len(a))\n",
    "print(\"Динамический массив: \", a)\n",
    "a.remove(3)\n",
    "print(\"Удалили элемент: \", a)"
   ]
  },
  {
   "cell_type": "markdown",
   "metadata": {},
   "source": [
    "2) Реализовать генератор, который возвращает значение поочередно извлекаемое из конца двух очередей (в качестве очереди используется deque из collections). Если очередь из которой извлекается элемент пуста - генератор заканчивает работу."
   ]
  },
  {
   "cell_type": "code",
   "execution_count": 4,
   "metadata": {},
   "outputs": [
    {
     "name": "stdout",
     "output_type": "stream",
     "text": [
      "3\n",
      "6\n",
      "2\n",
      "5\n",
      "1\n",
      "4\n"
     ]
    }
   ],
   "source": [
    "from collections import deque\n",
    "dq1 = deque([1, 2, 3])\n",
    "dq2 = deque([4, 5, 6])\n",
    "def extract_from_queues(dq1,dq2):\n",
    "    while dq1 or dq2:\n",
    "        if dq1:\n",
    "            yield dq1.pop()\n",
    "        if dq2:\n",
    "            yield dq2.pop()\n",
    "generator = extract_from_queues(dq1, dq2)\n",
    "for value in generator:\n",
    "    print(value)\n",
    "\n"
   ]
  },
  {
   "cell_type": "markdown",
   "metadata": {},
   "source": [
    "3) Реализовать классы с медодом action():\n",
    "а) Класс Pump - в методе action() извлекает очередное значение из генератора и помещает значение в очередь (очередь передается в конструктор).\n",
    "b) Класс MultiAction - при вызове метода action() n раз вызвает метод action() класса, переданного в конструкторе. Число n также определяется в конструкторе.\n",
    "c) Класс MultiPump - в методе action() извлекает очередное значение из генератора и помещает значение в одну из очередей (очереди передается в конструкторе); очереди , в которые помещаются очередные значения, меняются по порядку."
   ]
  },
  {
   "cell_type": "code",
   "execution_count": 5,
   "metadata": {},
   "outputs": [
    {
     "name": "stdout",
     "output_type": "stream",
     "text": [
      "deque([1, 2, 3, 4])\n",
      "deque([])\n"
     ]
    }
   ],
   "source": [
    "from collections import deque\n",
    "\n",
    "class Pump:\n",
    "    def __init__(self, generator, queue):\n",
    "        self.generator = generator\n",
    "        self.queue = queue\n",
    "        \n",
    "    def action(self):\n",
    "        if self.generator:\n",
    "            value = next(self.generator)\n",
    "            self.queue.append(value)\n",
    "\n",
    "class MultiAction:\n",
    "    def __init__(self, cls, n):\n",
    "        self.cls = cls\n",
    "        self.n = n\n",
    "        \n",
    "    def action(self):\n",
    "        for _ in range(self.n):\n",
    "            self.cls.action()\n",
    "\n",
    "class MultiPump:\n",
    "    def __init__(self, generator, queues):\n",
    "        self.generator = generator\n",
    "        self.queues = queues\n",
    "        \n",
    "    def action(self):\n",
    "        if self.generator:\n",
    "            value = next(self.generator)\n",
    "            queue = self.queues.pop(0)\n",
    "            queue.append(value)\n",
    "            self.queues.append(queue)\n",
    "queue1 = deque()\n",
    "queue2 = deque()\n",
    "generator = (i for i in range(1, 6))\n",
    "\n",
    "pump1 = Pump(generator, queue1)\n",
    "pump2 = Pump(generator, queue2)\n",
    "\n",
    "multi_action = MultiAction(pump1, 3)\n",
    "multi_action.action()\n",
    "\n",
    "multi_pump = MultiPump(generator, [queue1, queue2])\n",
    "multi_pump.action()\n",
    "\n",
    "print(queue1)  # deque([1, 4])\n",
    "print(queue2)  # deque([2, 3, 5])\n"
   ]
  },
  {
   "cell_type": "markdown",
   "metadata": {},
   "source": [
    "4) При помощи GenFromQ, Pump реализовать систему опработки сообщений. Сообщения создаются генератором сообщений возвращающим случайным \n",
    "образорм одно из сообщений. Сообщения из трех генераторов закачиваются в три очереди при помощи классов Pump, \n",
    "далее при помощи GenFromQ и Pump объединяются в одну очередь и выводятся на экран (можно реализовать при помощи класса с action и вызываемого при помощи MultiPump)."
   ]
  },
  {
   "cell_type": "code",
   "execution_count": null,
   "metadata": {},
   "outputs": [],
   "source": []
  }
 ],
 "metadata": {
  "kernelspec": {
   "display_name": "Python 3",
   "language": "python",
   "name": "python3"
  },
  "language_info": {
   "codemirror_mode": {
    "name": "ipython",
    "version": 3
   },
   "file_extension": ".py",
   "mimetype": "text/x-python",
   "name": "python",
   "nbconvert_exporter": "python",
   "pygments_lexer": "ipython3",
   "version": "3.12.2"
  }
 },
 "nbformat": 4,
 "nbformat_minor": 2
}
